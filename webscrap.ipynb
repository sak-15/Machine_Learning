{
 "cells": [
  {
   "cell_type": "code",
   "execution_count": 1,
   "metadata": {},
   "outputs": [],
   "source": [
    "import pandas as pd\n",
    "import numpy as np"
   ]
  },
  {
   "cell_type": "code",
   "execution_count": 2,
   "metadata": {},
   "outputs": [
    {
     "name": "stderr",
     "output_type": "stream",
     "text": [
      "/Users/sakshiii/Library/Python/3.9/lib/python/site-packages/tqdm/auto.py:21: TqdmWarning: IProgress not found. Please update jupyter and ipywidgets. See https://ipywidgets.readthedocs.io/en/stable/user_install.html\n",
      "  from .autonotebook import tqdm as notebook_tqdm\n"
     ]
    }
   ],
   "source": [
    "# import the package\n",
    "import nest_asyncio\n",
    "nest_asyncio.apply()\n",
    "from edgar import set_identity\n",
    "# define random user\n",
    "set_identity(\"Michel Raror Michel@codes.finance.fr\")"
   ]
  },
  {
   "cell_type": "code",
   "execution_count": 3,
   "metadata": {},
   "outputs": [
    {
     "data": {
      "text/html": [
       "<pre style=\"white-space:pre;overflow-x:auto;line-height:normal;font-family:Menlo,'DejaVu Sans Mono',consolas,'Courier New',monospace\"></pre>\n"
      ],
      "text/plain": []
     },
     "metadata": {},
     "output_type": "display_data"
    },
    {
     "data": {
      "text/plain": [
       "\u001b[38;5;244m╭─\u001b[0m\u001b[38;5;244m──────────────────────────────────────\u001b[0m\u001b[38;5;244m 🏢 \u001b[0m\u001b[1;32mAMAZON COM INC\u001b[0m\u001b[38;5;244m \u001b[0m\u001b[2;38;5;244m[1018724] \u001b[0m\u001b[1;33mAMZN\u001b[0m\u001b[38;5;244m \u001b[0m\u001b[38;5;244m───────────────────────────────────────\u001b[0m\u001b[38;5;244m─╮\u001b[0m\n",
       "\u001b[38;5;244m│\u001b[0m                                                                                                                 \u001b[38;5;244m│\u001b[0m\n",
       "\u001b[38;5;244m│\u001b[0m                                                                                                                 \u001b[38;5;244m│\u001b[0m\n",
       "\u001b[38;5;244m│\u001b[0m \u001b[38;5;244m╭─\u001b[0m\u001b[38;5;244m────────────────────────────────────────────────\u001b[0m\u001b[38;5;244m 📋 Entity \u001b[0m\u001b[38;5;244m────────────────────────────────────────────────\u001b[0m\u001b[38;5;244m─╮\u001b[0m \u001b[38;5;244m│\u001b[0m\n",
       "\u001b[38;5;244m│\u001b[0m \u001b[38;5;244m│\u001b[0m                                                                                                             \u001b[38;5;244m│\u001b[0m \u001b[38;5;244m│\u001b[0m\n",
       "\u001b[38;5;244m│\u001b[0m \u001b[38;5;244m│\u001b[0m   CIK   \u001b[1;38;5;32m1018724\u001b[0m   Type   \u001b[1;33mOperating\u001b[0m   \u001b[1;33m○\u001b[0m                                                                      \u001b[38;5;244m│\u001b[0m \u001b[38;5;244m│\u001b[0m\n",
       "\u001b[38;5;244m│\u001b[0m \u001b[38;5;244m│\u001b[0m                                                                                                             \u001b[38;5;244m│\u001b[0m \u001b[38;5;244m│\u001b[0m\n",
       "\u001b[38;5;244m│\u001b[0m \u001b[38;5;244m│\u001b[0m                                                                                                             \u001b[38;5;244m│\u001b[0m \u001b[38;5;244m│\u001b[0m\n",
       "\u001b[38;5;244m│\u001b[0m \u001b[38;5;244m│\u001b[0m  \u001b[1m \u001b[0m\u001b[1mCategory               \u001b[0m\u001b[1m \u001b[0m \u001b[1m \u001b[0m\u001b[1mIndustry                                \u001b[0m\u001b[1m \u001b[0m \u001b[1m \u001b[0m\u001b[1mFiscal Year End\u001b[0m\u001b[1m \u001b[0m                     \u001b[38;5;244m│\u001b[0m \u001b[38;5;244m│\u001b[0m\n",
       "\u001b[38;5;244m│\u001b[0m \u001b[38;5;244m│\u001b[0m  ──────────────────────────────────────────────────────────────────────────────────────                     \u001b[38;5;244m│\u001b[0m \u001b[38;5;244m│\u001b[0m\n",
       "\u001b[38;5;244m│\u001b[0m \u001b[38;5;244m│\u001b[0m   Large accelerated filer   5961: Retail-Catalog & Mail-Order Houses   Dec 31                               \u001b[38;5;244m│\u001b[0m \u001b[38;5;244m│\u001b[0m\n",
       "\u001b[38;5;244m│\u001b[0m \u001b[38;5;244m│\u001b[0m                                                                                                             \u001b[38;5;244m│\u001b[0m \u001b[38;5;244m│\u001b[0m\n",
       "\u001b[38;5;244m│\u001b[0m \u001b[38;5;244m╰─────────────────────────────────────────────────────────────────────────────────────────────────────────────╯\u001b[0m \u001b[38;5;244m│\u001b[0m\n",
       "\u001b[38;5;244m│\u001b[0m \u001b[38;5;244m╭─\u001b[0m\u001b[38;5;244m──────────────────────────────────────────────\u001b[0m\u001b[38;5;244m 📈 Exchanges \u001b[0m\u001b[38;5;244m───────────────────────────────────────────────\u001b[0m\u001b[38;5;244m─╮\u001b[0m \u001b[38;5;244m│\u001b[0m\n",
       "\u001b[38;5;244m│\u001b[0m \u001b[38;5;244m│\u001b[0m                                                                                                             \u001b[38;5;244m│\u001b[0m \u001b[38;5;244m│\u001b[0m\n",
       "\u001b[38;5;244m│\u001b[0m \u001b[38;5;244m│\u001b[0m  \u001b[1m \u001b[0m\u001b[1mExchange\u001b[0m\u001b[1m \u001b[0m \u001b[1m \u001b[0m\u001b[1mSymbol\u001b[0m\u001b[1m \u001b[0m                                                                                        \u001b[38;5;244m│\u001b[0m \u001b[38;5;244m│\u001b[0m\n",
       "\u001b[38;5;244m│\u001b[0m \u001b[38;5;244m│\u001b[0m  ───────────────────                                                                                        \u001b[38;5;244m│\u001b[0m \u001b[38;5;244m│\u001b[0m\n",
       "\u001b[38;5;244m│\u001b[0m \u001b[38;5;244m│\u001b[0m   Nasdaq    \u001b[1;33m \u001b[0m\u001b[1;33mAMZN  \u001b[0m\u001b[1;33m \u001b[0m                                                                                        \u001b[38;5;244m│\u001b[0m \u001b[38;5;244m│\u001b[0m\n",
       "\u001b[38;5;244m│\u001b[0m \u001b[38;5;244m│\u001b[0m                                                                                                             \u001b[38;5;244m│\u001b[0m \u001b[38;5;244m│\u001b[0m\n",
       "\u001b[38;5;244m│\u001b[0m \u001b[38;5;244m╰─────────────────────────────────────────────────────────────────────────────────────────────────────────────╯\u001b[0m \u001b[38;5;244m│\u001b[0m\n",
       "\u001b[38;5;244m│\u001b[0m \u001b[38;5;244m╭─\u001b[0m\u001b[38;5;244m─\u001b[0m\u001b[38;5;244m 🏢 Business Address \u001b[0m\u001b[38;5;244m──\u001b[0m\u001b[38;5;244m─╮\u001b[0m         \u001b[38;5;244m╭─\u001b[0m\u001b[38;5;244m──\u001b[0m\u001b[38;5;244m 📫 Mailing Address \u001b[0m\u001b[38;5;244m──\u001b[0m\u001b[38;5;244m─╮\u001b[0m         \u001b[38;5;244m╭─\u001b[0m\u001b[38;5;244m 📞 Contact Information \u001b[0m\u001b[38;5;244m─╮\u001b[0m          \u001b[38;5;244m│\u001b[0m\n",
       "\u001b[38;5;244m│\u001b[0m \u001b[38;5;244m│\u001b[0m 410 TERRY AVENUE NORTH   \u001b[38;5;244m│\u001b[0m         \u001b[38;5;244m│\u001b[0m 410 TERRY AVENUE NORTH   \u001b[38;5;244m│\u001b[0m         \u001b[38;5;244m│\u001b[0m                          \u001b[38;5;244m│\u001b[0m          \u001b[38;5;244m│\u001b[0m\n",
       "\u001b[38;5;244m│\u001b[0m \u001b[38;5;244m│\u001b[0m SEATTLE, WA 98109        \u001b[38;5;244m│\u001b[0m         \u001b[38;5;244m│\u001b[0m SEATTLE, WA 98109        \u001b[38;5;244m│\u001b[0m         \u001b[38;5;244m│\u001b[0m  \u001b[1;38;5;249m \u001b[0m\u001b[1;38;5;249mPhone\u001b[0m\u001b[1;38;5;249m \u001b[0m  2062661000     \u001b[38;5;244m│\u001b[0m          \u001b[38;5;244m│\u001b[0m\n",
       "\u001b[38;5;244m│\u001b[0m \u001b[38;5;244m╰──────────────────────────╯\u001b[0m         \u001b[38;5;244m╰──────────────────────────╯\u001b[0m         \u001b[38;5;244m│\u001b[0m                          \u001b[38;5;244m│\u001b[0m          \u001b[38;5;244m│\u001b[0m\n",
       "\u001b[38;5;244m│\u001b[0m                                                                           \u001b[38;5;244m╰──────────────────────────╯\u001b[0m          \u001b[38;5;244m│\u001b[0m\n",
       "\u001b[38;5;244m╰─\u001b[0m\u001b[38;5;244m───────────────────────────────────────────────\u001b[0m\u001b[38;5;244m SEC Entity Data \u001b[0m\u001b[38;5;244m───────────────────────────────────────────────\u001b[0m\u001b[38;5;244m─╯\u001b[0m"
      ]
     },
     "execution_count": 3,
     "metadata": {},
     "output_type": "execute_result"
    }
   ],
   "source": [
    "# define a company based on ticker\n",
    "from edgar import *\n",
    "amazon = Company(\"AMZN\")\n",
    "amazon"
   ]
  },
  {
   "cell_type": "code",
   "execution_count": 4,
   "metadata": {},
   "outputs": [
    {
     "data": {
      "text/html": [
       "<pre style=\"white-space:pre;overflow-x:auto;line-height:normal;font-family:Menlo,'DejaVu Sans Mono',consolas,'Courier New',monospace\"></pre>\n"
      ],
      "text/plain": []
     },
     "metadata": {},
     "output_type": "display_data"
    },
    {
     "data": {
      "text/plain": [
       "             \u001b[1;38;5;39mAMAZON.COM, INC.\u001b[0m Financials             \n",
       "╭───┬───────────────────────────────────────────────╮\n",
       "│ 1 │ \u001b[1mCover Page                                   \u001b[0m │\n",
       "│ 2 │ \u001b[1mConsolidated Balance Sheets                  \u001b[0m │\n",
       "│ 3 │ \u001b[1mIncome Statements                            \u001b[0m │\n",
       "│ 4 │ \u001b[1mConsolidated Statement of Cash Flows         \u001b[0m │\n",
       "│ 5 │ \u001b[1mConsolidated Statement of Shareholders Equity\u001b[0m │\n",
       "│ 6 │ \u001b[1mComprehensive Income Statement               \u001b[0m │\n",
       "╰───┴───────────────────────────────────────────────╯\n",
       "           \u001b[38;5;249mPeriod ending \u001b[0m\u001b[1mDecember 31, 2024\u001b[0m           "
      ]
     },
     "execution_count": 4,
     "metadata": {},
     "output_type": "execute_result"
    }
   ],
   "source": [
    "amazon.financials"
   ]
  },
  {
   "cell_type": "code",
   "execution_count": 5,
   "metadata": {},
   "outputs": [],
   "source": [
    "# get latest 10K for that company\n",
    "filing = amazon.get_filings(form=\"10-K\").latest()\n",
    "# show original filing (open the filing in a browser)\n",
    "filing.open()"
   ]
  },
  {
   "cell_type": "code",
   "execution_count": 6,
   "metadata": {},
   "outputs": [
    {
     "data": {
      "text/html": [
       "<pre style=\"white-space:pre;overflow-x:auto;line-height:normal;font-family:Menlo,'DejaVu Sans Mono',consolas,'Courier New',monospace\"></pre>\n"
      ],
      "text/plain": []
     },
     "metadata": {},
     "output_type": "display_data"
    },
    {
     "data": {
      "text/plain": [
       "╭────────────────────────────────────────────── \u001b[1;38;5;39mAMAZON COM INC\u001b[0m \u001b[1m10-K\u001b[0m ──────────────────────────────────────────────╮\n",
       "│ \u001b[38;5;249mPeriod ending \u001b[0m\u001b[1mDecember 31, 2024\u001b[0m\u001b[38;5;249m filed on \u001b[0m\u001b[1mFebruary 07, 2025\u001b[0m                                                      │\n",
       "│                                                                                                                 │\n",
       "│                                                                                                                 │\n",
       "│ 📄                                                                                                              │\n",
       "│ ├── \u001b[1;34mPART I\u001b[0m                                                                                                      │\n",
       "│ │   ├── \u001b[1;32mItem 1  \u001b[0m\u001b[1mBusiness\u001b[0m                                                                                        │\n",
       "│ │   ├── \u001b[1;32mItem 1A \u001b[0m\u001b[1mRisk Factors\u001b[0m                                                                                    │\n",
       "│ │   ├── \u001b[1;32mItem 1B \u001b[0m\u001b[1mUnresolved Staff Comments\u001b[0m                                                                       │\n",
       "│ │   ├── \u001b[1;32mItem 2  \u001b[0m\u001b[1mProperties\u001b[0m                                                                                      │\n",
       "│ │   ├── \u001b[1;32mItem 3  \u001b[0m\u001b[1mLegal Proceedings\u001b[0m                                                                               │\n",
       "│ │   └── \u001b[1;32mItem 4  \u001b[0m\u001b[1mMine Safety Disclosures\u001b[0m                                                                         │\n",
       "│ ├── \u001b[1;34mPART II\u001b[0m                                                                                                     │\n",
       "│ │   ├── \u001b[1;32mItem 5  \u001b[0m\u001b[1mMarket for Registrant’s Common Equity\u001b[0m                                                           │\n",
       "│ │   ├── \u001b[1;32mItem 6  \u001b[0m\u001b[1mSelected Financial Data\u001b[0m                                                                         │\n",
       "│ │   ├── \u001b[1;32mItem 7  \u001b[0m\u001b[1mManagement’s Discussion and Analysis (MD&A)\u001b[0m                                                     │\n",
       "│ │   ├── \u001b[1;32mItem 7A \u001b[0m\u001b[1mQuantitative and Qualitative Disclosures About Market Risk\u001b[0m                                      │\n",
       "│ │   ├── \u001b[1;32mItem 8  \u001b[0m\u001b[1mFinancial Statements\u001b[0m                                                                            │\n",
       "│ │   ├── \u001b[1;32mItem 9  \u001b[0m\u001b[1mControls and Procedures\u001b[0m                                                                         │\n",
       "│ │   ├── \u001b[1;32mItem 9A \u001b[0m\u001b[1mControls and Procedures\u001b[0m                                                                         │\n",
       "│ │   └── \u001b[1;32mItem 9B \u001b[0m\u001b[1mOther Information\u001b[0m                                                                               │\n",
       "│ ├── \u001b[1;34mPART III\u001b[0m                                                                                                    │\n",
       "│ │   ├── \u001b[1;32mItem 10 \u001b[0m\u001b[1mDirectors, Executive Officers, and Corporate Governance\u001b[0m                                         │\n",
       "│ │   ├── \u001b[1;32mItem 11 \u001b[0m\u001b[1mExecutive Compensation\u001b[0m                                                                          │\n",
       "│ │   ├── \u001b[1;32mItem 12 \u001b[0m\u001b[1mSecurity Ownership of Certain Beneficial Owners and Management\u001b[0m                                  │\n",
       "│ │   ├── \u001b[1;32mItem 13 \u001b[0m\u001b[1mCertain Relationships and Related Transactions, and Director Independence\u001b[0m                       │\n",
       "│ │   └── \u001b[1;32mItem 14 \u001b[0m\u001b[1mPrincipal Accounting Fees and Services\u001b[0m                                                          │\n",
       "│ └── \u001b[1;34mPART IV\u001b[0m                                                                                                     │\n",
       "│     └── \u001b[1;32mItem 15 \u001b[0m\u001b[1mExhibits, Financial Statement Schedules\u001b[0m                                                         │\n",
       "│                                                                                                                 │\n",
       "│                                                                                                                 │\n",
       "│              \u001b[1;38;5;39mAMAZON.COM, INC.\u001b[0m Financials                                                                        │\n",
       "│ ╭───┬───────────────────────────────────────────────╮                                                           │\n",
       "│ │ 1 │ \u001b[1mCover Page                                   \u001b[0m │                                                           │\n",
       "│ │ 2 │ \u001b[1mConsolidated Balance Sheets                  \u001b[0m │                                                           │\n",
       "│ │ 3 │ \u001b[1mIncome Statements                            \u001b[0m │                                                           │\n",
       "│ │ 4 │ \u001b[1mConsolidated Statement of Cash Flows         \u001b[0m │                                                           │\n",
       "│ │ 5 │ \u001b[1mConsolidated Statement of Shareholders Equity\u001b[0m │                                                           │\n",
       "│ │ 6 │ \u001b[1mComprehensive Income Statement               \u001b[0m │                                                           │\n",
       "│ ╰───┴───────────────────────────────────────────────╯                                                           │\n",
       "│            \u001b[38;5;249mPeriod ending \u001b[0m\u001b[1mDecember 31, 2024\u001b[0m                                                                      │\n",
       "╰─────────────────────────────────────────────────────────────────────────────────────────────────────────────────╯"
      ]
     },
     "execution_count": 6,
     "metadata": {},
     "output_type": "execute_result"
    }
   ],
   "source": [
    "# show what we got for this filing\n",
    "filing.obj()"
   ]
  },
  {
   "cell_type": "code",
   "execution_count": 7,
   "metadata": {},
   "outputs": [],
   "source": [
    "# Function that split a text into sentences\n",
    "import re\n",
    "def split_into_sentences(text):\n",
    "    # Regular expression pattern\n",
    "    # If REGEX does not speak to you, please refer to: https://www.w3schools.com/python/python_regex.asp\n",
    "    sentence_endings = r'(?<!\\w\\.\\w.)(?<![A-Z][a-z]\\.)(?<=\\.|\\?|\\!)\\s'\n",
    "    sentences = re.split(sentence_endings, text)    \n",
    "    return sentences"
   ]
  },
  {
   "cell_type": "code",
   "execution_count": 12,
   "metadata": {},
   "outputs": [
    {
     "name": "stdout",
     "output_type": "stream",
     "text": [
      "working on year: 2010\n",
      "Total number of mentions of digital asset for year: 2010 is 0\n",
      "working on year: 2011\n",
      "Total number of mentions of digital asset for year: 2011 is 0\n",
      "working on year: 2012\n",
      "Total number of mentions of digital asset for year: 2012 is 0\n",
      "working on year: 2013\n",
      "Total number of mentions of digital asset for year: 2013 is 0\n",
      "working on year: 2014\n",
      "Total number of mentions of digital asset for year: 2014 is 0\n",
      "working on year: 2015\n",
      "Total number of mentions of digital asset for year: 2015 is 0\n",
      "working on year: 2016\n",
      "Total number of mentions of digital asset for year: 2016 is 0\n",
      "working on year: 2017\n",
      "Total number of mentions of digital asset for year: 2017 is 0\n",
      "working on year: 2018\n",
      "Total number of mentions of digital asset for year: 2018 is 0\n",
      "working on year: 2019\n",
      "Total number of mentions of digital asset for year: 2019 is 0\n",
      "working on year: 2020\n",
      "Total number of mentions of digital asset for year: 2020 is 0\n",
      "working on year: 2021\n",
      "Total number of mentions of digital asset for year: 2021 is 0\n",
      "working on year: 2022\n",
      "Total number of mentions of digital asset for year: 2022 is 0\n",
      "working on year: 2023\n",
      "Total number of mentions of digital asset for year: 2023 is 0\n",
      "working on year: 2024\n",
      "Total number of mentions of digital asset for year: 2024 is 0\n",
      "    Year Number Mentions\n",
      "0   2010               0\n",
      "1   2011               0\n",
      "2   2012               0\n",
      "3   2013               0\n",
      "4   2014               0\n",
      "5   2015               0\n",
      "6   2016               0\n",
      "7   2017               0\n",
      "8   2018               0\n",
      "9   2019               0\n",
      "10  2020               0\n",
      "11  2021               0\n",
      "12  2022               0\n",
      "13  2023               0\n",
      "14  2024               0\n"
     ]
    }
   ],
   "source": [
    "mention_over_year= pd.DataFrame(columns=['Year', 'Number Mentions'])\n",
    "# loop through the  risk sections of the annual reports from 2010 to 2024\n",
    "for year in range(2010,2025):\n",
    "    print(\"working on year:\", year)\n",
    "    filings = get_filings(year)\n",
    "    filings = filings.filter(form=\"10-K\", ticker=\"AMZN\")\n",
    "    filing = filings[0]\n",
    "    sentences = split_into_sentences(filing.obj()['Item 2'].upper())\n",
    "    cpt_mention=0\n",
    "    for s in sentences:\n",
    "        if \"DIGITAL ASSET\" in s:\n",
    "            print(\"--YEAR--\",year,\"---\")\n",
    "            print(\"----SENTENCE----\")\n",
    "            print(s)\n",
    "            print(\"----------------\")\n",
    "            cpt_mention+=1\n",
    "    print(\"Total number of mentions of digital asset for year:\", year ,\"is\", cpt_mention)\n",
    "    mention_over_year = mention_over_year._append({'Year': year, 'Number Mentions': cpt_mention}, ignore_index=True)\n",
    "    \n",
    "#show dataframe\n",
    "print(mention_over_year)"
   ]
  },
  {
   "cell_type": "code",
   "execution_count": null,
   "metadata": {},
   "outputs": [],
   "source": []
  }
 ],
 "metadata": {
  "kernelspec": {
   "display_name": "Python 3",
   "language": "python",
   "name": "python3"
  },
  "language_info": {
   "codemirror_mode": {
    "name": "ipython",
    "version": 3
   },
   "file_extension": ".py",
   "mimetype": "text/x-python",
   "name": "python",
   "nbconvert_exporter": "python",
   "pygments_lexer": "ipython3",
   "version": "3.9.6"
  }
 },
 "nbformat": 4,
 "nbformat_minor": 2
}
